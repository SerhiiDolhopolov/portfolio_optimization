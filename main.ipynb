{
 "cells": [
  {
   "cell_type": "code",
   "execution_count": 1,
   "id": "bf6e6bef",
   "metadata": {},
   "outputs": [],
   "source": [
    "from openrouter import ask_deepseek_v3, ask_deepseek_r1"
   ]
  },
  {
   "cell_type": "markdown",
   "id": "4be6e572",
   "metadata": {},
   "source": [
    "# Підключив безкоштовні API-моделі через OpenRouter, щоб не витрачати чужі кошти під час розробки"
   ]
  },
  {
   "cell_type": "code",
   "execution_count": 2,
   "id": "1ad544f8",
   "metadata": {},
   "outputs": [
    {
     "name": "stdout",
     "output_type": "stream",
     "text": [
      "Hey! I'm just a digital pal running on code and caffeine vibes, but all systems go! 😎 How about you? What's kickin' in your world today?\n"
     ]
    }
   ],
   "source": [
    "test_ask = ask_deepseek_r1('Hello bro! How are you?')\n",
    "print(test_ask)"
   ]
  },
  {
   "cell_type": "code",
   "execution_count": 3,
   "id": "e7ec5abb",
   "metadata": {},
   "outputs": [
    {
     "name": "stdout",
     "output_type": "stream",
     "text": [
      "Help me create an investment portfolio of stocks for companies from the S&P500 list. Please make the portfolio as efficient as possible, finding a balance between risk and profit. Use only the 20 most efficient companies. In your answer, write only the list of stock tickers and the weight of the stocks in the portfolio, using this format:\n",
      "ticker: weight\n",
      "ticker: weight\n",
      "ticker: weight\n",
      "...\n",
      "\n",
      "Do not write anything except the list of tickers and weights. The total weight of the 20 companies must be equal to 1. The weight must be in format 0.00, not percentage.\n"
     ]
    }
   ],
   "source": [
    "with open('prompts/portfolio', 'r', encoding='utf-8') as file:\n",
    "    prompt = file.read().format(CARDINALITY=20)\n",
    "print(prompt)"
   ]
  },
  {
   "cell_type": "code",
   "execution_count": 4,
   "id": "fbc606fc",
   "metadata": {},
   "outputs": [],
   "source": [
    "answer = ask_deepseek_r1(prompt).strip()"
   ]
  },
  {
   "cell_type": "code",
   "execution_count": 5,
   "id": "9e09ff9e",
   "metadata": {},
   "outputs": [
    {
     "name": "stdout",
     "output_type": "stream",
     "text": [
      "AAPL: 0.07  \n",
      "MSFT: 0.07  \n",
      "GOOGL: 0.07  \n",
      "AMZN: 0.06  \n",
      "NVDA: 0.06  \n",
      "UNH: 0.05  \n",
      "JNJ: 0.05  \n",
      "JPM: 0.05  \n",
      "V: 0.05  \n",
      "PG: 0.05  \n",
      "HD: 0.05  \n",
      "MA: 0.05  \n",
      "ADBE: 0.05  \n",
      "KO: 0.04  \n",
      "CRM: 0.04  \n",
      "ABT: 0.04  \n",
      "XOM: 0.04  \n",
      "DIS: 0.04  \n",
      "HON: 0.03  \n",
      "CSCO: 0.03\n"
     ]
    }
   ],
   "source": [
    "print(answer)"
   ]
  },
  {
   "cell_type": "code",
   "execution_count": 9,
   "id": "83588d43",
   "metadata": {},
   "outputs": [],
   "source": [
    "tickers = dict()\n",
    "for line in answer.split('\\n'):\n",
    "    line = line.strip()\n",
    "    ticker, value = line.split(': ', 1)\n",
    "    try:\n",
    "        tickers[ticker] = float(value)\n",
    "    except ValueError:\n",
    "        print(f\"Could not convert value for {ticker}: {value}\")\n",
    "        continue"
   ]
  },
  {
   "cell_type": "code",
   "execution_count": 10,
   "id": "13d87c5d",
   "metadata": {},
   "outputs": [
    {
     "data": {
      "text/plain": [
       "{'AAPL': 0.07,\n",
       " 'MSFT': 0.07,\n",
       " 'GOOGL': 0.07,\n",
       " 'AMZN': 0.06,\n",
       " 'NVDA': 0.06,\n",
       " 'UNH': 0.05,\n",
       " 'JNJ': 0.05,\n",
       " 'JPM': 0.05,\n",
       " 'V': 0.05,\n",
       " 'PG': 0.05,\n",
       " 'HD': 0.05,\n",
       " 'MA': 0.05,\n",
       " 'ADBE': 0.05,\n",
       " 'KO': 0.04,\n",
       " 'CRM': 0.04,\n",
       " 'ABT': 0.04,\n",
       " 'XOM': 0.04,\n",
       " 'DIS': 0.04,\n",
       " 'HON': 0.03,\n",
       " 'CSCO': 0.03}"
      ]
     },
     "execution_count": 10,
     "metadata": {},
     "output_type": "execute_result"
    }
   ],
   "source": [
    "tickers"
   ]
  },
  {
   "cell_type": "code",
   "execution_count": null,
   "id": "5744d5a0",
   "metadata": {},
   "outputs": [
    {
     "data": {
      "text/plain": [
       "0.9900000000000004"
      ]
     },
     "execution_count": 11,
     "metadata": {},
     "output_type": "execute_result"
    }
   ],
   "source": [
    "tickers_sum = sum(tickers.values())\n",
    "tickers_sum"
   ]
  },
  {
   "cell_type": "code",
   "execution_count": null,
   "id": "1de346fb",
   "metadata": {},
   "outputs": [],
   "source": [
    "for key, value in tickers.items():\n",
    "    tickers[key] = tickers[key] * 1 / tickers_sum)"
   ]
  },
  {
   "cell_type": "code",
   "execution_count": 15,
   "id": "8253c1e8",
   "metadata": {},
   "outputs": [
    {
     "data": {
      "text/plain": [
       "0.9964070956735344"
      ]
     },
     "execution_count": 15,
     "metadata": {},
     "output_type": "execute_result"
    }
   ],
   "source": [
    "sum(tickers.values())"
   ]
  },
  {
   "cell_type": "code",
   "execution_count": 17,
   "id": "56672c5e",
   "metadata": {},
   "outputs": [
    {
     "data": {
      "text/plain": [
       "{'AAPL': 0.07070707070707068,\n",
       " 'MSFT': 0.07065660685154973,\n",
       " 'GOOGL': 0.07060980907872813,\n",
       " 'AMZN': 0.06048548757426127,\n",
       " 'NVDA': 0.060455899497168446,\n",
       " 'UNH': 0.050356784175503225,\n",
       " 'JNJ': 0.05033869596813272,\n",
       " 'JPM': 0.05032153681384315,\n",
       " 'V': 0.05030525780441931,\n",
       " 'PG': 0.05028981272416683,\n",
       " 'HD': 0.05027515789006769,\n",
       " 'MA': 0.05026125200255252,\n",
       " 'ADBE': 0.05024805600607834,\n",
       " 'KO': 0.04018842636701757,\n",
       " 'CRM': 0.040180819576167565,\n",
       " 'ABT': 0.04017352257928635,\n",
       " 'XOM': 0.04016652254525762,\n",
       " 'DIS': 0.0401598071914036,\n",
       " 'HON': 0.030115023569025495,\n",
       " 'CSCO': 0.030111546751834105}"
      ]
     },
     "execution_count": 17,
     "metadata": {},
     "output_type": "execute_result"
    }
   ],
   "source": [
    "tickers"
   ]
  },
  {
   "cell_type": "code",
   "execution_count": null,
   "id": "5931f325",
   "metadata": {},
   "outputs": [],
   "source": [
    "\n"
   ]
  }
 ],
 "metadata": {
  "kernelspec": {
   "display_name": ".venv",
   "language": "python",
   "name": "python3"
  },
  "language_info": {
   "codemirror_mode": {
    "name": "ipython",
    "version": 3
   },
   "file_extension": ".py",
   "mimetype": "text/x-python",
   "name": "python",
   "nbconvert_exporter": "python",
   "pygments_lexer": "ipython3",
   "version": "3.11.9"
  }
 },
 "nbformat": 4,
 "nbformat_minor": 5
}
